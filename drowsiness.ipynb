{
 "cells": [
  {
   "cell_type": "code",
   "execution_count": 1,
   "metadata": {},
   "outputs": [
    {
     "name": "stdout",
     "output_type": "stream",
     "text": [
      "WARNING:tensorflow:From C:\\Users\\USER\\AppData\\Local\\Packages\\PythonSoftwareFoundation.Python.3.11_qbz5n2kfra8p0\\LocalCache\\local-packages\\Python311\\site-packages\\keras\\src\\losses.py:2976: The name tf.losses.sparse_softmax_cross_entropy is deprecated. Please use tf.compat.v1.losses.sparse_softmax_cross_entropy instead.\n",
      "\n"
     ]
    }
   ],
   "source": [
    "import tensorflow as tf\n",
    "import pandas as pd \n",
    "import numpy as np \n",
    "from keras import layers\n",
    "import keras"
   ]
  },
  {
   "cell_type": "code",
   "execution_count": 2,
   "metadata": {},
   "outputs": [],
   "source": [
    "from keras import layers\n",
    "import keras"
   ]
  },
  {
   "cell_type": "code",
   "execution_count": 34,
   "metadata": {},
   "outputs": [
    {
     "name": "stdout",
     "output_type": "stream",
     "text": [
      "Found 1158 images belonging to 2 classes.\n",
      "Found 288 images belonging to 2 classes.\n",
      "Found 1158 images belonging to 2 classes.\n",
      "Found 288 images belonging to 2 classes.\n"
     ]
    }
   ],
   "source": [
    "#Inisialisasi ImageDataGenerator\n",
    "train_eyes_aug = tf.keras.preprocessing.image.ImageDataGenerator(rescale = 1./255,\n",
    "                                                                 validation_split=0.2)\n",
    "\n",
    "train_mouth_aug = tf.keras.preprocessing.image.ImageDataGenerator\n",
    "\n",
    "#Data Splitting untuk data mata\n",
    "train_eyes = train_eyes_aug.flow_from_directory('Data/train1/',\n",
    "                                                target_size=(225, 225),\n",
    "                                                batch_size=32,\n",
    "                                                color_mode = 'grayscale',\n",
    "                                                class_mode='binary',\n",
    "                                                subset = 'training')\n",
    "\n",
    "valid_eyes = train_eyes_aug.flow_from_directory('Data/train1/',\n",
    "                                                target_size=(225, 225),\n",
    "                                                batch_size=16,\n",
    "                                                color_mode = 'grayscale',\n",
    "                                                class_mode='binary',\n",
    "                                                subset = 'validation')\n",
    "\n",
    "#Data Splitting untuk data mulut\n",
    "train_mouth = train_mouth_aug.flow_from_directory('Data/train2/',\n",
    "                                                target_size=(225, 225),\n",
    "                                                batch_size=32,\n",
    "                                                color_mode = 'grayscale',\n",
    "                                                class_mode='binary',\n",
    "                                                subset ='training')\n",
    "\n",
    "valid_mouth = train_mouth_aug.flow_from_directory('Data/train2/',\n",
    "                                                target_size=(225, 225),\n",
    "                                                batch_size=16,\n",
    "                                                color_mode = 'grayscale',\n",
    "                                                class_mode='binary',\n",
    "                                                subset ='validation')"
   ]
  },
  {
   "cell_type": "code",
   "execution_count": 31,
   "metadata": {},
   "outputs": [],
   "source": [
    "input_eyes = tf.keras.Input(shape = (225,225,1), name='eyes_input')\n",
    "input_mouth = tf.keras.Input(shape = (225,225,1 ), name = 'mouth_input')\n",
    "\n",
    "x1 = tf.keras.layers.Conv2D(filters = 16, kernel_size=(3,3), activation = 'relu', padding = 'valid')(input_eyes)\n",
    "x1 = tf.keras.layers.Conv2D(filters = 32, kernel_size =(3,3), activation = 'relu', padding = 'valid')(x1)\n",
    "x1 = tf.keras.layers.MaxPool2D()(x1)\n",
    "x1 = tf.keras.layers.Flatten()(x1)\n",
    "\n",
    "x2 = tf.keras.layers.Conv2D(filters = 16, kernel_size=(3,3), activation = 'relu', padding = 'valid')(input_mouth)\n",
    "x2 = tf.keras.layers.Conv2D(filters = 32, kernel_size =(3,3), activation = 'relu', padding = 'valid')(x2)\n",
    "x2 = tf.keras.layers.MaxPool2D()(x2)\n",
    "x2 = tf.keras.layers.Flatten()(x2)\n",
    "\n",
    "comb = tf.keras.layers.Concatenate()([x1, x2])\n",
    "\n",
    "fc = tf.keras.layers.Dense(64)(comb)\n",
    "\n",
    "output_eye = tf.keras.layers.Dense(1, activation='sigmoid', name = 'out_eyes')(fc)\n",
    "output_mouth = tf.keras.layers.Dense(1, activation='sigmoid', name = 'out_mouth')(fc)\n",
    "\n",
    "model = tf.keras.Model(inputs = [input_eyes, input_mouth],\n",
    "                    outputs = [output_eye, output_mouth])\n"
   ]
  },
  {
   "cell_type": "code",
   "execution_count": 32,
   "metadata": {},
   "outputs": [],
   "source": [
    "model.compile(optimizer = keras.optimizers.Adam(),\n",
    "              loss = {\n",
    "                  'out_eyes' : keras.losses.BinaryCrossentropy(),\n",
    "                  'out_mouth' : keras.losses.BinaryCrossentropy(),\n",
    "                  },\n",
    "              metrics = {\n",
    "                  'out_eyes' : keras.metrics.BinaryAccuracy(),\n",
    "                  'out_mouth' : keras.metrics.BinaryAccuracy(),\n",
    "                  }\n",
    "              )"
   ]
  },
  {
   "cell_type": "code",
   "execution_count": 37,
   "metadata": {},
   "outputs": [
    {
     "ename": "ValueError",
     "evalue": "Failed to find data adapter that can handle input: (<class 'list'> containing values of types {\"<class 'keras.src.preprocessing.image.DirectoryIterator'>\"}), <class 'NoneType'>",
     "output_type": "error",
     "traceback": [
      "\u001b[1;31m---------------------------------------------------------------------------\u001b[0m",
      "\u001b[1;31mValueError\u001b[0m                                Traceback (most recent call last)",
      "\u001b[1;32md:\\drowsiness.ipynb Cell 6\u001b[0m line \u001b[0;36m1\n\u001b[1;32m----> <a href='vscode-notebook-cell:/d%3A/drowsiness.ipynb#W5sZmlsZQ%3D%3D?line=0'>1</a>\u001b[0m model\u001b[39m.\u001b[39;49mfit([train_eyes, train_mouth], \n\u001b[0;32m      <a href='vscode-notebook-cell:/d%3A/drowsiness.ipynb#W5sZmlsZQ%3D%3D?line=1'>2</a>\u001b[0m           validation_data \u001b[39m=\u001b[39;49m [valid_eyes , valid_mouth],\n\u001b[0;32m      <a href='vscode-notebook-cell:/d%3A/drowsiness.ipynb#W5sZmlsZQ%3D%3D?line=2'>3</a>\u001b[0m           epochs \u001b[39m=\u001b[39;49m \u001b[39m10\u001b[39;49m)\n",
      "File \u001b[1;32m~\\AppData\\Local\\Packages\\PythonSoftwareFoundation.Python.3.11_qbz5n2kfra8p0\\LocalCache\\local-packages\\Python311\\site-packages\\keras\\src\\utils\\traceback_utils.py:70\u001b[0m, in \u001b[0;36mfilter_traceback.<locals>.error_handler\u001b[1;34m(*args, **kwargs)\u001b[0m\n\u001b[0;32m     67\u001b[0m     filtered_tb \u001b[39m=\u001b[39m _process_traceback_frames(e\u001b[39m.\u001b[39m__traceback__)\n\u001b[0;32m     68\u001b[0m     \u001b[39m# To get the full stack trace, call:\u001b[39;00m\n\u001b[0;32m     69\u001b[0m     \u001b[39m# `tf.debugging.disable_traceback_filtering()`\u001b[39;00m\n\u001b[1;32m---> 70\u001b[0m     \u001b[39mraise\u001b[39;00m e\u001b[39m.\u001b[39mwith_traceback(filtered_tb) \u001b[39mfrom\u001b[39;00m \u001b[39mNone\u001b[39;00m\n\u001b[0;32m     71\u001b[0m \u001b[39mfinally\u001b[39;00m:\n\u001b[0;32m     72\u001b[0m     \u001b[39mdel\u001b[39;00m filtered_tb\n",
      "File \u001b[1;32m~\\AppData\\Local\\Packages\\PythonSoftwareFoundation.Python.3.11_qbz5n2kfra8p0\\LocalCache\\local-packages\\Python311\\site-packages\\keras\\src\\engine\\data_adapter.py:1105\u001b[0m, in \u001b[0;36mselect_data_adapter\u001b[1;34m(x, y)\u001b[0m\n\u001b[0;32m   1102\u001b[0m adapter_cls \u001b[39m=\u001b[39m [\u001b[39mcls\u001b[39m \u001b[39mfor\u001b[39;00m \u001b[39mcls\u001b[39m \u001b[39min\u001b[39;00m ALL_ADAPTER_CLS \u001b[39mif\u001b[39;00m \u001b[39mcls\u001b[39m\u001b[39m.\u001b[39mcan_handle(x, y)]\n\u001b[0;32m   1103\u001b[0m \u001b[39mif\u001b[39;00m \u001b[39mnot\u001b[39;00m adapter_cls:\n\u001b[0;32m   1104\u001b[0m     \u001b[39m# TODO(scottzhu): This should be a less implementation-specific error.\u001b[39;00m\n\u001b[1;32m-> 1105\u001b[0m     \u001b[39mraise\u001b[39;00m \u001b[39mValueError\u001b[39;00m(\n\u001b[0;32m   1106\u001b[0m         \u001b[39m\"\u001b[39m\u001b[39mFailed to find data adapter that can handle input: \u001b[39m\u001b[39m{}\u001b[39;00m\u001b[39m, \u001b[39m\u001b[39m{}\u001b[39;00m\u001b[39m\"\u001b[39m\u001b[39m.\u001b[39mformat(\n\u001b[0;32m   1107\u001b[0m             _type_name(x), _type_name(y)\n\u001b[0;32m   1108\u001b[0m         )\n\u001b[0;32m   1109\u001b[0m     )\n\u001b[0;32m   1110\u001b[0m \u001b[39melif\u001b[39;00m \u001b[39mlen\u001b[39m(adapter_cls) \u001b[39m>\u001b[39m \u001b[39m1\u001b[39m:\n\u001b[0;32m   1111\u001b[0m     \u001b[39mraise\u001b[39;00m \u001b[39mRuntimeError\u001b[39;00m(\n\u001b[0;32m   1112\u001b[0m         \u001b[39m\"\u001b[39m\u001b[39mData adapters should be mutually exclusive for \u001b[39m\u001b[39m\"\u001b[39m\n\u001b[0;32m   1113\u001b[0m         \u001b[39m\"\u001b[39m\u001b[39mhandling inputs. Found multiple adapters \u001b[39m\u001b[39m{}\u001b[39;00m\u001b[39m to handle \u001b[39m\u001b[39m\"\u001b[39m\n\u001b[0;32m   1114\u001b[0m         \u001b[39m\"\u001b[39m\u001b[39minput: \u001b[39m\u001b[39m{}\u001b[39;00m\u001b[39m, \u001b[39m\u001b[39m{}\u001b[39;00m\u001b[39m\"\u001b[39m\u001b[39m.\u001b[39mformat(adapter_cls, _type_name(x), _type_name(y))\n\u001b[0;32m   1115\u001b[0m     )\n",
      "\u001b[1;31mValueError\u001b[0m: Failed to find data adapter that can handle input: (<class 'list'> containing values of types {\"<class 'keras.src.preprocessing.image.DirectoryIterator'>\"}), <class 'NoneType'>"
     ]
    }
   ],
   "source": [
    "model.fit([train_eyes, train_mouth], \n",
    "          validation_data = [valid_eyes , valid_mouth],\n",
    "          epochs = 10)"
   ]
  },
  {
   "cell_type": "code",
   "execution_count": 36,
   "metadata": {},
   "outputs": [
    {
     "ename": "SyntaxError",
     "evalue": "incomplete input (1399920271.py, line 1)",
     "output_type": "error",
     "traceback": [
      "\u001b[1;36m  Cell \u001b[1;32mIn[36], line 1\u001b[1;36m\u001b[0m\n\u001b[1;33m    model.compile(\u001b[0m\n\u001b[1;37m                   ^\u001b[0m\n\u001b[1;31mSyntaxError\u001b[0m\u001b[1;31m:\u001b[0m incomplete input\n"
     ]
    }
   ],
   "source": []
  },
  {
   "cell_type": "code",
   "execution_count": null,
   "metadata": {},
   "outputs": [],
   "source": []
  }
 ],
 "metadata": {
  "kernelspec": {
   "display_name": "Python 3",
   "language": "python",
   "name": "python3"
  },
  "language_info": {
   "codemirror_mode": {
    "name": "ipython",
    "version": 3
   },
   "file_extension": ".py",
   "mimetype": "text/x-python",
   "name": "python",
   "nbconvert_exporter": "python",
   "pygments_lexer": "ipython3",
   "version": "3.11.7"
  }
 },
 "nbformat": 4,
 "nbformat_minor": 2
}
